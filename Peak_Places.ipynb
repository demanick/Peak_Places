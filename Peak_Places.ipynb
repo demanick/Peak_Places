{
 "cells": [
  {
   "cell_type": "markdown",
   "metadata": {},
   "source": [
    "# Peak Places\n",
    "\n",
    "Have you ever wondered what the weather looks like at the highest point in each of the 50 states? Then Peak Places is right for you. Peak Places uses a list of the geographic coordinates (latitude and longitude) of the highest point in each state to retrieve location data from the Google Maps suite of APIs and weather data from the Dark Sky API. This initial list is Data from these two APIs is stored in a database titled *peaks* which contains two tables:\n",
    "\n",
    "* _peaks_information_ for the time invariant Google Maps data\n",
    "* _peaks_weather_ for the time variant DarkSky weather data\n",
    "\n",
    "The _peaks_information_ table is only updated once upon the first running of the Peak Places program while the _peaks_weather_ table is updated with new weather data every four hours. Data is never deleted from either table.\n",
    "\n",
    "### Elevation Scraper\n",
    "The elevation_scraper.py file is used to generate the states.csv file whihc contains th initial list of geographic coordinates mentioned in the paragraph above. The coordinates are scraped from a Wikipedia article title [\"List of U.S. states by elevation\"](https://en.wikipedia.org/wiki/List_of_U.S._states_by_elevation) skipping entries for \"District of Columbia\" and \"United States\"."
   ]
  },
  {
   "cell_type": "code",
   "execution_count": null,
   "metadata": {},
   "outputs": [],
   "source": [
    "!sudo python3 elevation_scraper.py"
   ]
  },
  {
   "cell_type": "markdown",
   "metadata": {},
   "source": [
    "### Google Maps API\n",
    "Peak Places uses a Python Client for Google Maps Services which can be installed using the following command:"
   ]
  },
  {
   "cell_type": "code",
   "execution_count": null,
   "metadata": {},
   "outputs": [],
   "source": [
    "!sudo pip3 install -U googlemaps"
   ]
  },
  {
   "cell_type": "markdown",
   "metadata": {},
   "source": [
    "The Python Client can query any of the Google Maps APIs using one key. The user must enable each API associated with the key from the [Google API Console](https://developers.google.com/console). For more information on the Google Maps API go here: https://developers.google.com/maps/ and for more information on the Python Client go here: https://github.com/googlemaps/google-maps-services-python.\n",
    "\n",
    "### DarkSky Weather API\n",
    "The DarkSky Weather API is used by Peak Places to collect up to the minute weather data at each geographic coordinate every four hours. For more information on the DarkSky API go here: https://darksky.net/dev.\n",
    "\n",
    "### User IP\n",
    "The IP for my database connection is 34.226.52.95\n",
    "\n",
    "What follows is the code for Peak Places, all necessary documentation is commented out in the code:"
   ]
  },
  {
   "cell_type": "code",
   "execution_count": null,
   "metadata": {},
   "outputs": [],
   "source": [
    "# list of imports foe peak_places\n",
    "import csv\n",
    "import googlemaps\n",
    "import requests\n",
    "import MySQLdb as mdb\n",
    "\n",
    "from datetime import datetime\n",
    "from urllib.error import URLError"
   ]
  },
  {
   "cell_type": "code",
   "execution_count": null,
   "metadata": {
    "collapsed": true
   },
   "outputs": [],
   "source": [
    "# global API key vairables\n",
    "MAPS_API_KEY = open('GoogleMaps_API_Key.txt', 'r').read()\n",
    "WEATHER_API_KEY = open('DarkSky_API_Key.txt', 'r').read()"
   ]
  },
  {
   "cell_type": "code",
   "execution_count": null,
   "metadata": {
    "collapsed": true
   },
   "outputs": [],
   "source": [
    "def get_weather(location):\n",
    "    '''Collects weather data at geographic coordinate using DarkSky API'''\n",
    "\n",
    "    # unpack location tupel\n",
    "    lat = location[0]\n",
    "    lon = location[1]\n",
    "    # format url for DarkSky API request\n",
    "    url = 'https://api.darksky.net/forecast/{API_KEY}/{lat},{lon}'.format(API_KEY=WEATHER_API_KEY,\n",
    "                                                                          lat=lat, lon=lon)\n",
    "\n",
    "    # request data\n",
    "    try:\n",
    "        r = requests.get(url)\n",
    "    except:\n",
    "        return 0\n",
    "    else:\n",
    "        weather_json = r.json()['currently']\n",
    "\n",
    "        # extract pertinent information from API into dictionary\n",
    "        weather_dict = {\n",
    "            'lat':        lat,\n",
    "            'lon':        lon,\n",
    "            'time':       datetime.fromtimestamp(weather_json['time']),\n",
    "            'summary':    weather_json['summary'],\n",
    "            'temp':       weather_json['temperature'],\n",
    "            'rainProb':   weather_json['precipProbability'],\n",
    "            'humidity':   weather_json['humidity'],\n",
    "            'windSpeed':  weather_json['windSpeed'],\n",
    "            'cloudCover': weather_json['cloudCover'],\n",
    "            'visibility': weather_json['visibility']\n",
    "        }\n",
    "\n",
    "        return weather_dict"
   ]
  },
  {
   "cell_type": "code",
   "execution_count": null,
   "metadata": {
    "collapsed": true
   },
   "outputs": [],
   "source": [
    "class USMountain(object):\n",
    "    '''Mountain object populated with data from suite of Google\n",
    "    Maps APIs'''\n",
    "    def __init__(self, location):\n",
    "        self.client = googlemaps.Client(MAPS_API_KEY)\n",
    "        self.location = location\n",
    "        self.lat = location[0]\n",
    "        self.lon = location[1]\n",
    "        self.__googleStateData()\n",
    "        self.__googlePlaceData()\n",
    "        self.__googleElevationData()\n",
    "\n",
    "    def __googleStateData(self):\n",
    "        '''Collects state data from Google Geocode API'''\n",
    "        geocode_json = self.client.reverse_geocode(self.location)\n",
    "\n",
    "        # assume first result\n",
    "        geocode_data = geocode_json[0]\n",
    "        # unpack results from json object returned by Geocode API\n",
    "        for component in geocode_data['address_components']:\n",
    "            if 'administrative_area_level_1' in component['types']:\n",
    "                self.state = component['long_name']\n",
    "\n",
    "    def __googlePlaceData(self):\n",
    "        '''Collects place data from Google Places API'''\n",
    "        places_json = self.client.places_nearby(location=self.location, radius=100,\n",
    "                                                keyword='mountain', language='en-AU',\n",
    "                                                type='nature_feature')\n",
    "\n",
    "        # unpack results from json object returned by Places API\n",
    "        places_data = places_json['results']\n",
    "\n",
    "        # check if results were returned before variable assignment\n",
    "        if places_data:\n",
    "            # assume first result is correct\n",
    "            result = places_data[0]\n",
    "            # place  data in mountains dict\n",
    "            self.name = result['name']\n",
    "            self.place_id = result['place_id']\n",
    "            # in case there is no rating set key to None\n",
    "            try:\n",
    "                self.rating = result['rating']\n",
    "            except:\n",
    "                self.rating = None\n",
    "        else:\n",
    "            # this code is for states SC and FL which do not reutrn anything with above params\n",
    "            places_json = self.client.places_nearby(location=self.location, radius=500,\n",
    "                                                    language='en-AU', type='point_of_interest')\n",
    "            result = places_json['results'][0]\n",
    "            # place  data in mountains dict\n",
    "            self.name = result['name']\n",
    "            self.place_id = result['place_id']\n",
    "            # in case there is no rating set key to None\n",
    "            try:\n",
    "                self.rating = result['rating']\n",
    "            except:\n",
    "                self.rating = None\n",
    "\n",
    "    def __googleElevationData(self):\n",
    "        '''Collects elevation data from Google Elevation API'''\n",
    "        elevation_data = self.client.elevation(self.location)\n",
    "\n",
    "        # unpack results form list object reutrned by Elevation API\n",
    "        result = elevation_data[0]\n",
    "        self.elevation = result['elevation']"
   ]
  },
  {
   "cell_type": "code",
   "execution_count": null,
   "metadata": {},
   "outputs": [],
   "source": [
    "# set-up parameters for local host\n",
    "params = {\n",
    "    'SERVER': '34.226.52.95',    # whatever the local host is\n",
    "    'UID':    'root',            # your username\n",
    "    'PWD':    'dwdstudent2015'   # your password\n",
    "}\n",
    "# connect to MySQL db using MySQLdb module\n",
    "cnxn = mdb.connect(params['SERVER'], params['UID'], params['PWD'],\n",
    "                   charset='utf8', use_unicode=True)\n",
    "# cnxn.setdecoding(pyodbc.SQL_CHAR, encoding='utf-8')\n",
    "# create cursor object\n",
    "cursor = cnxn.cursor()\n",
    "\n",
    "# create peaks database if it does not exist\n",
    "dbname = 'peaks'\n",
    "create_peaks_database_query = '''CREATE DATABASE IF NOT EXISTS {db}'''.format(db=dbname)\n",
    "cursor.execute(create_peaks_database_query)"
   ]
  },
  {
   "cell_type": "code",
   "execution_count": null,
   "metadata": {},
   "outputs": [],
   "source": [
    "# create table for peak information if it doesn't exist\n",
    "create_peak_table_query = '''CREATE TABLE IF NOT EXISTS {db}.{table}\n",
    "                            (place_id varchar(255),\n",
    "                             name varchar(255),\n",
    "                             state varchar(255),\n",
    "                             lat float,\n",
    "                             lon float,\n",
    "                             elevation float,\n",
    "                             rating float,\n",
    "                             PRIMARY KEY(lat, lon)\n",
    "                             )'''.format(db=dbname, table='peaks_information')\n",
    "cursor.execute(create_peak_table_query)"
   ]
  },
  {
   "cell_type": "code",
   "execution_count": null,
   "metadata": {},
   "outputs": [],
   "source": [
    "# create table for weather information if it doesn't exist\n",
    "create_weather_table_query = '''CREATE TABLE IF NOT EXISTS {db}.{table}\n",
    "                                (lat float,\n",
    "                                 lon float,\n",
    "                                 time datetime,\n",
    "                                 summary varchar(255),\n",
    "                                 temp float,\n",
    "                                 rainProb float,\n",
    "                                 humidity float,\n",
    "                                 windSpeed float, \n",
    "                                 cloudCover float,\n",
    "                                 visibility float,\n",
    "                                 PRIMARY KEY(lat, lon, time)\n",
    "                                 )'''.format(db=dbname, table='peak_weather')\n",
    "cursor.execute(create_weather_table_query)"
   ]
  },
  {
   "cell_type": "code",
   "execution_count": null,
   "metadata": {},
   "outputs": [],
   "source": [
    "# iterate through longitude and latitude data from states.csv file\n",
    "with open('states.csv', 'r') as csvfile:\n",
    "    reader = csv.DictReader(csvfile)\n",
    "    for row in reader:\n",
    "        # unpack coordinates as a tuple\n",
    "        location = (float(row['lat']), float(row['lon']))\n",
    "\n",
    "        # check if peak_information table is filled, if not continue filling\n",
    "        existence_query = '''SELECT COUNT(*) FROM {db}.{table}'''.format(db=dbname,\n",
    "                                                                         table='peaks_information')\n",
    "        cursor.execute(existence_query)\n",
    "        num_rows = cursor.fetchone()[0]\n",
    "        if num_rows < 50:\n",
    "            # create USMountain object\n",
    "            mountain = USMountain(location)\n",
    "\n",
    "            # fill table with attributes of mountain object\n",
    "            peak_info_query = '''INSERT IGNORE INTO {db}.{table}\n",
    "                                 (place_id, name, state, lat, lon, elevation, rating)\n",
    "                                 VALUES (%s, %s, %s, %s, %s, %s, %s)'''.format(db=dbname, table='peaks_information')\n",
    "            query_params = (mountain.place_id, mountain.name, mountain.state, mountain.lat,\n",
    "                            mountain.lon, mountain.elevation, mountain.rating)\n",
    "            print(query_params)\n",
    "            cursor.execute(peak_info_query, query_params)\n",
    "            cnxn.commit()\n",
    "\n",
    "        # get weather data\n",
    "        weather = get_weather(location)\n",
    "        if weather == 0:\n",
    "            raise URLError('DarkSky API is down')\n",
    "\n",
    "        # fill table with weather data\n",
    "        weather_info_query = '''INSERT IGNORE INTO {db}.{table}\n",
    "                                (lat, lon, time, summary, temp, rainProb, humidity, windSpeed, cloudCover, visibility)\n",
    "                                VALUES (%s, %s, %s, %s, %s, %s, %s, %s, %s, %s)'''.format(db=dbname, table='peak_weather')\n",
    "        query_params = (weather['lat'], weather['lon'], weather['time'], weather['summary'],\n",
    "                        weather['temp'], weather['rainProb'], weather['humidity'],\n",
    "                        weather['windSpeed'], weather['cloudCover'], weather['visibility'])\n",
    "        print(query_params)\n",
    "        cursor.execute(weather_info_query, query_params)\n",
    "        cnxn.commit()\n",
    "# close cursor\n",
    "cursor.close()"
   ]
  }
 ],
 "metadata": {
  "kernelspec": {
   "display_name": "Python 3",
   "language": "python",
   "name": "python3"
  },
  "language_info": {
   "codemirror_mode": {
    "name": "ipython",
    "version": 3
   },
   "file_extension": ".py",
   "mimetype": "text/x-python",
   "name": "python",
   "nbconvert_exporter": "python",
   "pygments_lexer": "ipython3",
   "version": "3.5.2"
  }
 },
 "nbformat": 4,
 "nbformat_minor": 2
}
